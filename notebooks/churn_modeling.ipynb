{
 "cells": [
  {
   "cell_type": "markdown",
   "id": "8df15997",
   "metadata": {},
   "source": [
    "*** SyriaTel Customers Retention Plan ***\n",
    "\n",
    "##  Business Understanding\n",
    "\n",
    "**Stakeholder:** \n",
    "\n",
    "SyriaTel Customer Retention & Marketing Teams\n",
    "\n",
    "**Business Problem:**  \n",
    "\n",
    "SyriaTel is experiencing customer churn and wants to predict which users are likely to leave the service. By identifying churn-prone customers in advance, the company can take proactive measures such as offering discounts, improving service quality, or initiating targeted campaigns.\n",
    "\n",
    "**Goal:**  \n",
    "\n",
    "\n",
    "Build a classification model that accurately predicts customer churn and provides insights into key factors influencing churn behavior.This will lead to customer retention and business growth in longtime customer base.\n",
    "Launch targeted retention campaigns.\n",
    "Provide personalized offers to at-risk customers.\n",
    "Optimize customer service outreach.\n",
    "Improve forecasting of customer lifetime value.\n"
   ]
  },
  {
   "cell_type": "markdown",
   "id": "3767a8f3",
   "metadata": {},
   "source": [
    "## 📊 Data Understanding\n",
    "\n",
    "In this section, we explore and summarize the SyriaTel dataset to better understand the variables, structure, and potential data quality issues. This exploration will guide preprocessing and model selection decisions.\n",
    "\n",
    "We will:\n",
    "- Load and preview the dataset\n",
    "- Identify key features and their types\n",
    "- Explore the distribution of the target (`Churn`)\n",
    "- Check for missing values or anomalies\n",
    "- Review basic descriptive statistics\n"
   ]
  },
  {
   "cell_type": "code",
   "execution_count": 169,
   "id": "57e2d39c",
   "metadata": {},
   "outputs": [
    {
     "data": {
      "text/html": [
       "<div>\n",
       "<style scoped>\n",
       "    .dataframe tbody tr th:only-of-type {\n",
       "        vertical-align: middle;\n",
       "    }\n",
       "\n",
       "    .dataframe tbody tr th {\n",
       "        vertical-align: top;\n",
       "    }\n",
       "\n",
       "    .dataframe thead th {\n",
       "        text-align: right;\n",
       "    }\n",
       "</style>\n",
       "<table border=\"1\" class=\"dataframe\">\n",
       "  <thead>\n",
       "    <tr style=\"text-align: right;\">\n",
       "      <th></th>\n",
       "      <th>state</th>\n",
       "      <th>account length</th>\n",
       "      <th>area code</th>\n",
       "      <th>phone number</th>\n",
       "      <th>international plan</th>\n",
       "      <th>voice mail plan</th>\n",
       "      <th>number vmail messages</th>\n",
       "      <th>total day minutes</th>\n",
       "      <th>total day calls</th>\n",
       "      <th>total day charge</th>\n",
       "      <th>...</th>\n",
       "      <th>total eve calls</th>\n",
       "      <th>total eve charge</th>\n",
       "      <th>total night minutes</th>\n",
       "      <th>total night calls</th>\n",
       "      <th>total night charge</th>\n",
       "      <th>total intl minutes</th>\n",
       "      <th>total intl calls</th>\n",
       "      <th>total intl charge</th>\n",
       "      <th>customer service calls</th>\n",
       "      <th>churn</th>\n",
       "    </tr>\n",
       "  </thead>\n",
       "  <tbody>\n",
       "    <tr>\n",
       "      <th>0</th>\n",
       "      <td>KS</td>\n",
       "      <td>128</td>\n",
       "      <td>415</td>\n",
       "      <td>382-4657</td>\n",
       "      <td>no</td>\n",
       "      <td>yes</td>\n",
       "      <td>25</td>\n",
       "      <td>265.1</td>\n",
       "      <td>110</td>\n",
       "      <td>45.07</td>\n",
       "      <td>...</td>\n",
       "      <td>99</td>\n",
       "      <td>16.78</td>\n",
       "      <td>244.7</td>\n",
       "      <td>91</td>\n",
       "      <td>11.01</td>\n",
       "      <td>10.0</td>\n",
       "      <td>3</td>\n",
       "      <td>2.70</td>\n",
       "      <td>1</td>\n",
       "      <td>False</td>\n",
       "    </tr>\n",
       "    <tr>\n",
       "      <th>1</th>\n",
       "      <td>OH</td>\n",
       "      <td>107</td>\n",
       "      <td>415</td>\n",
       "      <td>371-7191</td>\n",
       "      <td>no</td>\n",
       "      <td>yes</td>\n",
       "      <td>26</td>\n",
       "      <td>161.6</td>\n",
       "      <td>123</td>\n",
       "      <td>27.47</td>\n",
       "      <td>...</td>\n",
       "      <td>103</td>\n",
       "      <td>16.62</td>\n",
       "      <td>254.4</td>\n",
       "      <td>103</td>\n",
       "      <td>11.45</td>\n",
       "      <td>13.7</td>\n",
       "      <td>3</td>\n",
       "      <td>3.70</td>\n",
       "      <td>1</td>\n",
       "      <td>False</td>\n",
       "    </tr>\n",
       "    <tr>\n",
       "      <th>2</th>\n",
       "      <td>NJ</td>\n",
       "      <td>137</td>\n",
       "      <td>415</td>\n",
       "      <td>358-1921</td>\n",
       "      <td>no</td>\n",
       "      <td>no</td>\n",
       "      <td>0</td>\n",
       "      <td>243.4</td>\n",
       "      <td>114</td>\n",
       "      <td>41.38</td>\n",
       "      <td>...</td>\n",
       "      <td>110</td>\n",
       "      <td>10.30</td>\n",
       "      <td>162.6</td>\n",
       "      <td>104</td>\n",
       "      <td>7.32</td>\n",
       "      <td>12.2</td>\n",
       "      <td>5</td>\n",
       "      <td>3.29</td>\n",
       "      <td>0</td>\n",
       "      <td>False</td>\n",
       "    </tr>\n",
       "    <tr>\n",
       "      <th>3</th>\n",
       "      <td>OH</td>\n",
       "      <td>84</td>\n",
       "      <td>408</td>\n",
       "      <td>375-9999</td>\n",
       "      <td>yes</td>\n",
       "      <td>no</td>\n",
       "      <td>0</td>\n",
       "      <td>299.4</td>\n",
       "      <td>71</td>\n",
       "      <td>50.90</td>\n",
       "      <td>...</td>\n",
       "      <td>88</td>\n",
       "      <td>5.26</td>\n",
       "      <td>196.9</td>\n",
       "      <td>89</td>\n",
       "      <td>8.86</td>\n",
       "      <td>6.6</td>\n",
       "      <td>7</td>\n",
       "      <td>1.78</td>\n",
       "      <td>2</td>\n",
       "      <td>False</td>\n",
       "    </tr>\n",
       "    <tr>\n",
       "      <th>4</th>\n",
       "      <td>OK</td>\n",
       "      <td>75</td>\n",
       "      <td>415</td>\n",
       "      <td>330-6626</td>\n",
       "      <td>yes</td>\n",
       "      <td>no</td>\n",
       "      <td>0</td>\n",
       "      <td>166.7</td>\n",
       "      <td>113</td>\n",
       "      <td>28.34</td>\n",
       "      <td>...</td>\n",
       "      <td>122</td>\n",
       "      <td>12.61</td>\n",
       "      <td>186.9</td>\n",
       "      <td>121</td>\n",
       "      <td>8.41</td>\n",
       "      <td>10.1</td>\n",
       "      <td>3</td>\n",
       "      <td>2.73</td>\n",
       "      <td>3</td>\n",
       "      <td>False</td>\n",
       "    </tr>\n",
       "  </tbody>\n",
       "</table>\n",
       "<p>5 rows × 21 columns</p>\n",
       "</div>"
      ],
      "text/plain": [
       "  state  account length  area code phone number international plan  \\\n",
       "0    KS             128        415     382-4657                 no   \n",
       "1    OH             107        415     371-7191                 no   \n",
       "2    NJ             137        415     358-1921                 no   \n",
       "3    OH              84        408     375-9999                yes   \n",
       "4    OK              75        415     330-6626                yes   \n",
       "\n",
       "  voice mail plan  number vmail messages  total day minutes  total day calls  \\\n",
       "0             yes                     25              265.1              110   \n",
       "1             yes                     26              161.6              123   \n",
       "2              no                      0              243.4              114   \n",
       "3              no                      0              299.4               71   \n",
       "4              no                      0              166.7              113   \n",
       "\n",
       "   total day charge  ...  total eve calls  total eve charge  \\\n",
       "0             45.07  ...               99             16.78   \n",
       "1             27.47  ...              103             16.62   \n",
       "2             41.38  ...              110             10.30   \n",
       "3             50.90  ...               88              5.26   \n",
       "4             28.34  ...              122             12.61   \n",
       "\n",
       "   total night minutes  total night calls  total night charge  \\\n",
       "0                244.7                 91               11.01   \n",
       "1                254.4                103               11.45   \n",
       "2                162.6                104                7.32   \n",
       "3                196.9                 89                8.86   \n",
       "4                186.9                121                8.41   \n",
       "\n",
       "   total intl minutes  total intl calls  total intl charge  \\\n",
       "0                10.0                 3               2.70   \n",
       "1                13.7                 3               3.70   \n",
       "2                12.2                 5               3.29   \n",
       "3                 6.6                 7               1.78   \n",
       "4                10.1                 3               2.73   \n",
       "\n",
       "   customer service calls  churn  \n",
       "0                       1  False  \n",
       "1                       1  False  \n",
       "2                       0  False  \n",
       "3                       2  False  \n",
       "4                       3  False  \n",
       "\n",
       "[5 rows x 21 columns]"
      ]
     },
     "execution_count": 169,
     "metadata": {},
     "output_type": "execute_result"
    }
   ],
   "source": [
    "# Import libraries\n",
    "import pandas as pd\n",
    "import matplotlib.pyplot as plt\n",
    "import seaborn as sns\n",
    "import numpy as np\n",
    "from sklearn.model_selection import train_test_split\n",
    "from sklearn.preprocessing import StandardScaler\n",
    "from sklearn.metrics import roc_auc_score, roc_curve\n",
    "from sklearn.tree import DecisionTreeClassifier\n",
    "from sklearn.feature_selection import VarianceThreshold\n",
    "from sklearn.linear_model import LogisticRegression\n",
    "from sklearn.metrics import classification_report, confusion_matrix\n",
    "\n",
    "# Load dataset\n",
    "df = pd.read_csv('syriatel_churn_data.csv')\n",
    "\n",
    "df.head()\n"
   ]
  },
  {
   "cell_type": "markdown",
   "id": "f1ac222f",
   "metadata": {},
   "source": [
    "### 🧾 Initial Dataset Preview\n",
    "\n",
    "The first few rows of the dataset give us insight into the structure and feature types. Each row represents a unique SyriaTel customer.\n",
    "\n",
    "We will now inspect general information and basic statistics.\n"
   ]
  },
  {
   "cell_type": "code",
   "execution_count": 170,
   "id": "80278e4d",
   "metadata": {},
   "outputs": [
    {
     "name": "stdout",
     "output_type": "stream",
     "text": [
      "<class 'pandas.core.frame.DataFrame'>\n",
      "RangeIndex: 3333 entries, 0 to 3332\n",
      "Data columns (total 21 columns):\n",
      " #   Column                  Non-Null Count  Dtype  \n",
      "---  ------                  --------------  -----  \n",
      " 0   state                   3333 non-null   object \n",
      " 1   account length          3333 non-null   int64  \n",
      " 2   area code               3333 non-null   int64  \n",
      " 3   phone number            3333 non-null   object \n",
      " 4   international plan      3333 non-null   object \n",
      " 5   voice mail plan         3333 non-null   object \n",
      " 6   number vmail messages   3333 non-null   int64  \n",
      " 7   total day minutes       3333 non-null   float64\n",
      " 8   total day calls         3333 non-null   int64  \n",
      " 9   total day charge        3333 non-null   float64\n",
      " 10  total eve minutes       3333 non-null   float64\n",
      " 11  total eve calls         3333 non-null   int64  \n",
      " 12  total eve charge        3333 non-null   float64\n",
      " 13  total night minutes     3333 non-null   float64\n",
      " 14  total night calls       3333 non-null   int64  \n",
      " 15  total night charge      3333 non-null   float64\n",
      " 16  total intl minutes      3333 non-null   float64\n",
      " 17  total intl calls        3333 non-null   int64  \n",
      " 18  total intl charge       3333 non-null   float64\n",
      " 19  customer service calls  3333 non-null   int64  \n",
      " 20  churn                   3333 non-null   bool   \n",
      "dtypes: bool(1), float64(8), int64(8), object(4)\n",
      "memory usage: 524.2+ KB\n"
     ]
    }
   ],
   "source": [
    "# Structure of dataset\n",
    "df.info()\n",
    "# Check for missing values"
   ]
  },
  {
   "cell_type": "markdown",
   "id": "2cea15a0",
   "metadata": {},
   "source": [
    "### 🔍 Data Types and Missing Values\n",
    "\n",
    "The `.info()` method shows which columns are numerical or categorical, and whether any values are missing.\n",
    "\n",
    "We also explicitly check for null values below.\n"
   ]
  },
  {
   "cell_type": "code",
   "execution_count": 171,
   "id": "f26cda44",
   "metadata": {},
   "outputs": [
    {
     "data": {
      "text/plain": [
       "state                     0\n",
       "account length            0\n",
       "area code                 0\n",
       "phone number              0\n",
       "international plan        0\n",
       "voice mail plan           0\n",
       "number vmail messages     0\n",
       "total day minutes         0\n",
       "total day calls           0\n",
       "total day charge          0\n",
       "total eve minutes         0\n",
       "total eve calls           0\n",
       "total eve charge          0\n",
       "total night minutes       0\n",
       "total night calls         0\n",
       "total night charge        0\n",
       "total intl minutes        0\n",
       "total intl calls          0\n",
       "total intl charge         0\n",
       "customer service calls    0\n",
       "churn                     0\n",
       "dtype: int64"
      ]
     },
     "execution_count": 171,
     "metadata": {},
     "output_type": "execute_result"
    }
   ],
   "source": [
    "# Check for missing values\n",
    "df.isnull().sum()\n"
   ]
  },
  {
   "cell_type": "code",
   "execution_count": 172,
   "id": "684a2a61",
   "metadata": {},
   "outputs": [],
   "source": [
    "# Drop non-informative identifier columns\n",
    "df_model = df.drop(columns=['phone number'])  \n",
    "# Prepare data\n",
    "X = df_model.drop('churn', axis=1)\n",
    "y = df_model['churn']\n",
    "# Split the dataset into training and testing sets\n",
    "X_train, X_test, y_train, y_test = train_test_split(X, y, test_size=0.2, random_state=42)"
   ]
  },
  {
   "cell_type": "markdown",
   "id": "f993e7eb",
   "metadata": {},
   "source": [
    "### 🎯 Target Variable: `Churn`\n",
    "\n",
    "We now examine the distribution of the target variable (`Churn`) to determine whether the data is balanced or imbalanced. A highly imbalanced target can bias some classification models and may require special handling.\n"
   ]
  },
  {
   "cell_type": "code",
   "execution_count": 173,
   "id": "35f4ce8a",
   "metadata": {},
   "outputs": [
    {
     "name": "stdout",
     "output_type": "stream",
     "text": [
      "False    2850\n",
      "True      483\n",
      "Name: churn, dtype: int64\n",
      "False    0.855086\n",
      "True     0.144914\n",
      "Name: churn, dtype: float64\n"
     ]
    },
    {
     "data": {
      "image/png": "[encoded data removed]",
      "text/plain": [
       "<Figure size 640x480 with 1 Axes>"
      ]
     },
     "metadata": {},
     "output_type": "display_data"
    }
   ],
   "source": [
    "# Value counts and proportions\n",
    "print(df['churn'].value_counts())\n",
    "print(df['churn'].value_counts(normalize=True))\n",
    "\n",
    "# Visual representation\n",
    "sns.countplot(x='churn', data=df)\n",
    "plt.title(\"Churn Class Distribution\")\n",
    "plt.xlabel(\"Churn (0 = No, 1 = Yes)\")\n",
    "plt.ylabel(\"Count\")\n",
    "plt.show()"
   ]
  },
  {
   "cell_type": "markdown",
   "id": "c1a4a552",
   "metadata": {},
   "source": [
    "### ✅ Summary of Data Understanding\n",
    "\n",
    "- The dataset contains no missing values, so no imputation is required.\n",
    "- The `Churn` variable is binary and slightly imbalanced.\n",
    "- Several variables are likely to be important predictors (e.g., `Customer service calls`, `International plan`, `Total day minutes`).\n",
    "- Categorical variables such as `International plan` and `Voice mail plan` will require encoding before modeling.\n",
    "\n",
    "\n"
   ]
  },
  {
   "cell_type": "markdown",
   "id": "f4ebdc8e",
   "metadata": {},
   "source": [
    "## 🧹 Data Preparation\n",
    "\n",
    "In this step, we prepare the SyriaTel churn dataset for predictive modeling. Proper preprocessing is essential to ensure valid model evaluation and avoid data leakage.\n",
    "\n",
    "We address the following:\n",
    "- Handling missing values\n",
    "- Encoding categorical variables\n",
    "- Splitting the dataset into features and target\n",
    "- Scaling features (necessary for some model types)\n",
    "- Preparing the training and testing sets appropriately\n",
    "\n",
    "We ensure that transformations are **fit only on the training data**, and then applied to both training and testing sets to prevent data leakage.\n"
   ]
  },
  {
   "cell_type": "code",
   "execution_count": 174,
   "id": "79cd0525",
   "metadata": {},
   "outputs": [
    {
     "name": "stdout",
     "output_type": "stream",
     "text": [
      "Missing Values:\n",
      " state                     0\n",
      "account length            0\n",
      "area code                 0\n",
      "phone number              0\n",
      "international plan        0\n",
      "voice mail plan           0\n",
      "number vmail messages     0\n",
      "total day minutes         0\n",
      "total day calls           0\n",
      "total day charge          0\n",
      "total eve minutes         0\n",
      "total eve calls           0\n",
      "total eve charge          0\n",
      "total night minutes       0\n",
      "total night calls         0\n",
      "total night charge        0\n",
      "total intl minutes        0\n",
      "total intl calls          0\n",
      "total intl charge         0\n",
      "customer service calls    0\n",
      "churn                     0\n",
      "dtype: int64\n",
      "\n",
      "Data Types:\n",
      " state                      object\n",
      "account length              int64\n",
      "area code                   int64\n",
      "phone number               object\n",
      "international plan         object\n",
      "voice mail plan            object\n",
      "number vmail messages       int64\n",
      "total day minutes         float64\n",
      "total day calls             int64\n",
      "total day charge          float64\n",
      "total eve minutes         float64\n",
      "total eve calls             int64\n",
      "total eve charge          float64\n",
      "total night minutes       float64\n",
      "total night calls           int64\n",
      "total night charge        float64\n",
      "total intl minutes        float64\n",
      "total intl calls            int64\n",
      "total intl charge         float64\n",
      "customer service calls      int64\n",
      "churn                        bool\n",
      "dtype: object\n",
      "\n",
      "Dataset Shape: (3333, 21)\n"
     ]
    }
   ],
   "source": [
    "# Check for missing values\n",
    "print(\"Missing Values:\\n\", df.isnull().sum())\n",
    "\n",
    "# Check data types and shape\n",
    "print(\"\\nData Types:\\n\", df.dtypes)\n",
    "print(\"\\nDataset Shape:\", df.shape)\n"
   ]
  },
  {
   "cell_type": "markdown",
   "id": "1516dfef",
   "metadata": {},
   "source": [
    "### 🔤 Encoding Categorical Variables\n",
    "\n",
    "The dataset contains a few categorical variables, such as `International plan` and `Voice mail plan`, which are binary (Yes/No). These can be converted to 1/0.\n",
    "\n",
    "Other categorical features (e.g., `Area code`) are either numerical or non-informative for this model and can be handled accordingly. Multiclass features like `State` are one-hot encoded.\n"
   ]
  },
  {
   "cell_type": "code",
   "execution_count": 175,
   "id": "fa3c37e9",
   "metadata": {},
   "outputs": [],
   "source": [
    "# Map binary categories\n",
    "df['international plan'] = df['international plan'].map({'Yes': 1, 'No': 0})\n",
    "df['voice mail plan'] = df['voice mail plan'].map({'Yes': 1, 'No': 0})\n",
    "\n",
    "# One-hot encode 'State' if still categorical\n",
    "if df['state'].dtype == 'object':\n",
    "    df = pd.get_dummies(df, columns=['state'], drop_first=True)\n",
    "    \n"
   ]
  },
  {
   "cell_type": "markdown",
   "id": "0c02ac38",
   "metadata": {},
   "source": [
    "### 🎯 Splitting Features and Target\n",
    "\n",
    "Our target variable is `churn`, which indicates whether a customer has left the network (1) or remained (0).\n",
    "\n",
    "We separate the dataset into:\n",
    "- `X`: Features (predictors)\n",
    "- `y`: Target (churn label)\n"
   ]
  },
  {
   "cell_type": "code",
   "execution_count": 176,
   "id": "d554dc8c",
   "metadata": {},
   "outputs": [],
   "source": [
    "# Split target and features\n",
    "X = df.drop('churn', axis=1)\n",
    "y = df['churn']\n",
    "\n"
   ]
  },
  {
   "cell_type": "markdown",
   "id": "c59ac0c5",
   "metadata": {},
   "source": [
    "### 🔀 Train-Test Split\n",
    "\n",
    "To evaluate our models properly, we split the dataset into training and test sets using an 80/20 split.\n",
    "\n",
    "We use **stratification** on the target to preserve the churn rate distribution in both sets.\n"
   ]
  },
  {
   "cell_type": "code",
   "execution_count": 177,
   "id": "e333869c",
   "metadata": {},
   "outputs": [],
   "source": [
    "X_train, X_test, y_train, y_test = train_test_split(\n",
    "    X, y, test_size=0.2, random_state=42, stratify=y\n",
    ")\n"
   ]
  },
  {
   "cell_type": "code",
   "execution_count": 178,
   "id": "b5493551",
   "metadata": {},
   "outputs": [],
   "source": [
    "# Drop phone number and optionally state if you won't encode it\n",
    "df_model = df.drop(columns=['phone number'])\n",
    "df_model = pd.get_dummies(df_model, drop_first=True)\n",
    "X = df_model.drop('churn', axis=1)\n",
    "y = df_model['churn']\n",
    "X_train, X_test, y_train, y_test = train_test_split(X, y, test_size=0.2, random_state=42)\n",
    "X_train = X_train.dropna(axis=1)\n",
    "X_test = X_test.dropna(axis=1)\n",
    "\n"
   ]
  },
  {
   "cell_type": "markdown",
   "id": "9e5f2700",
   "metadata": {},
   "source": [
    "### ⚖️ Feature Scaling\n",
    "\n",
    "Some models (like logistic regression and KNN) are sensitive to feature scale. We apply standard scaling (zero mean, unit variance) **only on the training data**, then apply the same transformation to the test data.\n"
   ]
  },
  {
   "cell_type": "code",
   "execution_count": 179,
   "id": "4024db6e",
   "metadata": {},
   "outputs": [],
   "source": [
    "# Initialize the scaler\n",
    "scaler = StandardScaler()\n",
    "\n",
    "# Fit on training data\n",
    "X_train_scaled = scaler.fit_transform(X_train)\n",
    "\n",
    "# Apply same transformation to test set\n",
    "X_test_scaled = scaler.transform(X_test)\n"
   ]
  },
  {
   "cell_type": "markdown",
   "id": "0098d063",
   "metadata": {},
   "source": [
    "### 🔍 Modeling Objective\n",
    "\n",
    "Our goal is to build predictive models that can accurately identify customers who are likely to churn. We will begin with logistic regression as a baseline model, then implement decision trees, and finally tune hyperparameters to improve performance.\n",
    "\n",
    "We will evaluate model performance using:\n",
    "- Accuracy, Precision, Recall, F1-Score\n",
    "- Confusion Matrix\n",
    "- ROC Curve & AUC Score\n"
   ]
  },
  {
   "cell_type": "code",
   "execution_count": 180,
   "id": "66107b01",
   "metadata": {},
   "outputs": [],
   "source": [
    "# Define features and target\n",
    "X = df_model.drop(\"churn\", axis=1)\n",
    "y = df_model[\"churn\"]\n",
    "\n",
    "# Train-test split\n",
    "X_train, X_test, y_train, y_test = train_test_split(\n",
    "    X, y, test_size=0.2, random_state=42, stratify=y\n",
    ")\n",
    "\n",
    "# Drop columns with all-NaN values\n",
    "X_train = X_train.dropna(axis=1, how='all')\n",
    "X_test = X_test[X_train.columns]  \n",
    "# Get selected feature names\n",
    "selected_features = X_train.columns[selector.get_support()]\n",
    "\n",
    "# Remove constant features\n",
    "selector = VarianceThreshold(threshold=0.0)\n",
    "X_train = selector.fit_transform(X_train)\n",
    "X_test = selector.transform(X_test)\n",
    "\n",
    "# Scale numerical features\n",
    "scaler = StandardScaler()\n",
    "X_train_scaled = scaler.fit_transform(X_train)\n",
    "X_test_scaled = scaler.transform(X_test)\n",
    "\n",
    "\n"
   ]
  },
  {
   "cell_type": "markdown",
   "id": "4ff71aca",
   "metadata": {},
   "source": [
    "### 📌 Logistic Regression\n",
    "\n",
    "Logistic Regression is a simple yet powerful linear model for binary classification. It estimates the probability that a customer will churn.\n",
    "\n",
    "We use this as our baseline model.\n"
   ]
  },
  {
   "cell_type": "code",
   "execution_count": 181,
   "id": "360ebe8e",
   "metadata": {},
   "outputs": [
    {
     "name": "stdout",
     "output_type": "stream",
     "text": [
      "Logistic Regression Classification Report:\n",
      "              precision    recall  f1-score   support\n",
      "\n",
      "       False       0.87      0.97      0.92       570\n",
      "        True       0.47      0.14      0.22        97\n",
      "\n",
      "    accuracy                           0.85       667\n",
      "   macro avg       0.67      0.56      0.57       667\n",
      "weighted avg       0.81      0.85      0.82       667\n",
      "\n",
      "Confusion Matrix:\n",
      "[[554  16]\n",
      " [ 83  14]]\n"
     ]
    }
   ],
   "source": [
    "logreg = LogisticRegression(random_state=42)\n",
    "logreg.fit(X_train_scaled, y_train)\n",
    "\n",
    "y_pred_lr = logreg.predict(X_test_scaled)\n",
    "\n",
    "print(\"Logistic Regression Classification Report:\")\n",
    "print(classification_report(y_test, y_pred_lr))\n",
    "\n",
    "print(\"Confusion Matrix:\")\n",
    "print(confusion_matrix(y_test, y_pred_lr))\n"
   ]
  },
  {
   "cell_type": "markdown",
   "id": "368ee28c",
   "metadata": {},
   "source": [
    "### 📈 ROC Curve and AUC\n",
    "\n",
    "Receiver Operating Characteristic (ROC) curve helps evaluate classifier performance across all classification thresholds.\n",
    "\n",
    "AUC (Area Under Curve) closer to 1.0 indicates a good model.\n"
   ]
  },
  {
   "cell_type": "code",
   "execution_count": 182,
   "id": "e66559f2",
   "metadata": {},
   "outputs": [
    {
     "data": {
      "image/png": "[encoded data removed]",
      "text/plain": [
       "<Figure size 640x480 with 1 Axes>"
      ]
     },
     "metadata": {},
     "output_type": "display_data"
    }
   ],
   "source": [
    "# Plot ROC curve\n",
    "y_proba_lr = logreg.predict_proba(X_test_scaled)[:, 1]\n",
    "fpr, tpr, _ = roc_curve(y_test, y_proba_lr)\n",
    "auc = roc_auc_score(y_test, y_proba_lr)\n",
    "\n",
    "plt.figure()\n",
    "plt.plot(fpr, tpr, label=f\"Logistic Regression (AUC = {auc:.2f})\")\n",
    "plt.plot([0, 1], [0, 1], linestyle='--')\n",
    "plt.xlabel(\"False Positive Rate\")\n",
    "plt.ylabel(\"True Positive Rate\")\n",
    "plt.title(\"ROC Curve\")\n",
    "plt.legend()\n",
    "plt.show()\n"
   ]
  },
  {
   "cell_type": "markdown",
   "id": "dfefc182",
   "metadata": {},
   "source": [
    "### 🌳 Decision Tree Classifier\n",
    "\n",
    "Decision Trees are non-linear models that split the dataset into branches to reach predictions. They are interpretable and can reveal feature importance.\n"
   ]
  },
  {
   "cell_type": "code",
   "execution_count": 183,
   "id": "915d6b43",
   "metadata": {},
   "outputs": [
    {
     "name": "stdout",
     "output_type": "stream",
     "text": [
      "Decision Tree Classification Report:\n",
      "              precision    recall  f1-score   support\n",
      "\n",
      "       False       0.92      0.95      0.93       570\n",
      "        True       0.64      0.49      0.56        97\n",
      "\n",
      "    accuracy                           0.89       667\n",
      "   macro avg       0.78      0.72      0.75       667\n",
      "weighted avg       0.88      0.89      0.88       667\n",
      "\n"
     ]
    }
   ],
   "source": [
    "dt = DecisionTreeClassifier(random_state=42, max_depth=4)\n",
    "dt.fit(X_train, y_train)\n",
    "y_pred_dt = dt.predict(X_test)\n",
    "\n",
    "print(\"Decision Tree Classification Report:\")\n",
    "print(classification_report(y_test, y_pred_dt))"
   ]
  },
  {
   "cell_type": "markdown",
   "id": "c7871919",
   "metadata": {},
   "source": [
    "### 🧮 Feature Importance\n",
    "\n",
    "Understanding which features drive churn is essential. We extract feature importances from the trained decision tree.\n"
   ]
  },
  {
   "cell_type": "code",
   "execution_count": 188,
   "id": "cff7cb1c",
   "metadata": {},
   "outputs": [
    {
     "data": {
      "text/plain": [
       "Text(0, 0.5, 'Features')"
      ]
     },
     "execution_count": 188,
     "metadata": {},
     "output_type": "execute_result"
    },
    {
     "data": {
      "image/png": "[encoded data removed]",
      "text/plain": [
       "<Figure size 1000x600 with 1 Axes>"
      ]
     },
     "metadata": {},
     "output_type": "display_data"
    }
   ],
   "source": [
    "# Plot feature importances\n",
    "feature_importance = pd.Series(dt.feature_importances_, index=selected_features)\n",
    "feature_importance = feature_importance.sort_values(ascending=False)\n",
    "# Sort and keep top 10 important features\n",
    "top_n = 10\n",
    "top_features = feature_importance.sort_values(ascending=False).head(top_n)\n",
    "\n",
    "# Plot\n",
    "plt.figure(figsize=(10, 6))\n",
    "sns.barplot(x=top_features, y=top_features.index, palette='viridis')\n",
    "\n",
    "plt.title(f\"Top {top_n} Feature Importances - Decision Tree\", fontsize=14)\n",
    "plt.xlabel(\"Importance Score\", fontsize=12)\n",
    "plt.ylabel(\"Features\", fontsize=12)\n"
   ]
  }
 ],
 "metadata": {
  "kernelspec": {
   "display_name": "learn-env",
   "language": "python",
   "name": "python3"
  },
  "language_info": {
   "codemirror_mode": {
    "name": "ipython",
    "version": 3
   },
   "file_extension": ".py",
   "mimetype": "text/x-python",
   "name": "python",
   "nbconvert_exporter": "python",
   "pygments_lexer": "ipython3",
   "version": "3.8.5"
  }
 },
 "nbformat": 4,
 "nbformat_minor": 5
}
